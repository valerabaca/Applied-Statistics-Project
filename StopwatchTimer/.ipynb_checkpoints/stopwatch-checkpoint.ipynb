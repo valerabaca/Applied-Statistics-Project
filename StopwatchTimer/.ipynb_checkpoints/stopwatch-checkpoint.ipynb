{
 "cells": [
  {
   "cell_type": "markdown",
   "metadata": {},
   "source": [
    "# Stopwatch\n",
    "\n",
    "Simple stopwatch macro, writing result into a file (to be read by analysis program)\n",
    "\n",
    "### Authors:\n",
    "Troels Petersens (original stopwatch.py version)\n",
    "Étienne Bourbeau (notebook version)\n",
    "\n",
    "### Last modified:\n",
    "November 20th 2020\n",
    "\n",
    "## IMPORTANT NOTE: \n",
    "__It is strongly recommended to use the python script (stopwatch_py3.py) on your own computer for the lab, instead of this notebook, as the notebook and running on a remote server like ERDA might potentially lead to inaccuracies in the timing recorded.__"
   ]
  },
  {
   "cell_type": "code",
   "execution_count": 1,
   "metadata": {},
   "outputs": [],
   "source": [
    "# Importing useful libraries\n",
    "from time import time\n",
    "import os,sys\n",
    "\n",
    "# Standard name to use for the output file.\n",
    "name = \"timer_output.dat\""
   ]
  },
  {
   "cell_type": "markdown",
   "metadata": {},
   "source": [
    "The Following section of the notebook will verify that the output file name does not already exists in your current directory. If it does, you will be asked to enter a new file name.\n",
    "\n",
    "If the file name satisfies all the required conditions, the stopwatch will start and you will be able to record time stamps simply by pressing \"enter\""
   ]
  },
  {
   "cell_type": "code",
   "execution_count": 2,
   "metadata": {},
   "outputs": [
    {
     "name": "stderr",
     "output_type": "stream",
     "text": [
      "<>:35: SyntaxWarning: \"is\" with a literal. Did you mean \"==\"?\n",
      "<>:35: SyntaxWarning: \"is\" with a literal. Did you mean \"==\"?\n"
     ]
    },
    {
     "name": "stdout",
     "output_type": "stream",
     "text": [
      "The file  timer_output.dat  already exists in this directory.\n",
      "Please enter a new name for your output file: jupyter-test.dat\n"
     ]
    },
    {
     "name": "stderr",
     "output_type": "stream",
     "text": [
      "<ipython-input-2-33535e76a250>:35: SyntaxWarning: \"is\" with a literal. Did you mean \"==\"?\n",
      "  while( input( \"%4d \\t %10.4f \\t Laptime by enter, Exit by key+enter \\t\"%(counter, laptime) ) is \"\" ) :\n"
     ]
    },
    {
     "name": "stdout",
     "output_type": "stream",
     "text": [
      "   0 \t     0.0000 \t Laptime by enter, Exit by key+enter \t\n",
      "   1 \t     2.8763 \t Laptime by enter, Exit by key+enter \t\n",
      "   2 \t     3.5122 \t Laptime by enter, Exit by key+enter \t\n",
      "   3 \t     4.1352 \t Laptime by enter, Exit by key+enter \t\n",
      "   4 \t     4.7925 \t Laptime by enter, Exit by key+enter \t\n",
      "   5 \t     5.5233 \t Laptime by enter, Exit by key+enter \t\n",
      "   6 \t     6.3409 \t Laptime by enter, Exit by key+enter \t\n",
      "   7 \t     7.0849 \t Laptime by enter, Exit by key+enter \t\n",
      "   8 \t     7.8411 \t Laptime by enter, Exit by key+enter \t\n",
      "   9 \t     8.6139 \t Laptime by enter, Exit by key+enter \t\n",
      "  10 \t     9.3842 \t Laptime by enter, Exit by key+enter \t\n",
      "  11 \t    10.1018 \t Laptime by enter, Exit by key+enter \t\n",
      "  12 \t    10.8630 \t Laptime by enter, Exit by key+enter \t\n",
      "  13 \t    11.7818 \t Laptime by enter, Exit by key+enter \t\n",
      "  14 \t    13.7857 \t Laptime by enter, Exit by key+enter \t\n",
      "  15 \t    14.7786 \t Laptime by enter, Exit by key+enter \t\n",
      "  16 \t    16.8466 \t Laptime by enter, Exit by key+enter \t\n",
      "  17 \t    22.4450 \t Laptime by enter, Exit by key+enter \t\n",
      "  18 \t    23.8657 \t Laptime by enter, Exit by key+enter \t\n",
      "  19 \t    28.2945 \t Laptime by enter, Exit by key+enter \t\n",
      "  20 \t    29.7918 \t Laptime by enter, Exit by key+enter \t\n",
      "  21 \t    31.9591 \t Laptime by enter, Exit by key+enter \t\n",
      "  22 \t    32.8782 \t Laptime by enter, Exit by key+enter \t\n",
      "  23 \t    34.0951 \t Laptime by enter, Exit by key+enter \t\n",
      "  24 \t    35.0706 \t Laptime by enter, Exit by key+enter \t  \n",
      "Done.\n"
     ]
    }
   ],
   "source": [
    "\n",
    "n = 0\n",
    "while (os.path.isfile(name)):\n",
    "    print(\"The file \",name,\" already exists in this directory.\")\n",
    "    name = input(\"Please enter a new name for your output file: \")\n",
    "    \n",
    "newname = name\n",
    "    \n",
    "# Make some check about the string entered\n",
    "if len(newname)==0:\n",
    "    good_name=False\n",
    "else:\n",
    "    good_name=(newname[0].isalpha())*(newname.endswith(\".dat\"))\n",
    "    \n",
    "while n<5 and (not good_name):\n",
    "    newname = input(\"Name must end with .dat and first character must be a letter: \")\n",
    "    n+=1\n",
    "    if len(newname)==0:\n",
    "        newname = input(\"Name must not be empty: \")\n",
    "        n+=1\n",
    "        continue\n",
    "    else:\n",
    "        good_name=(newname[0].isalpha())*(newname.endswith(\".dat\"))\n",
    "            \n",
    "if not good_name:\n",
    "    print(\"ERROR: Filename does not fulfill basic requirements.\")\n",
    "    sys.exit()\n",
    "else:\n",
    "    name = newname\n",
    "        \n",
    "    \n",
    "with open(name, \"w\") as outfile : \n",
    "    now = time()\n",
    "    laptime = 0.0\n",
    "    counter = 0\n",
    "    while( input( \"%4d \\t %10.4f \\t Laptime by enter, Exit by key+enter \\t\"%(counter, laptime) ) is \"\" ) : \n",
    "        counter += 1\n",
    "        laptime = time()-now\n",
    "        outfile.write(\"%4d \\t %10.4f \\n\"%(counter, laptime))\n",
    "        \n",
    "    print(\"Done.\")"
   ]
  },
  {
   "cell_type": "code",
   "execution_count": null,
   "metadata": {},
   "outputs": [],
   "source": []
  }
 ],
 "metadata": {
  "kernelspec": {
   "display_name": "Python 3",
   "language": "python",
   "name": "python3"
  },
  "language_info": {
   "codemirror_mode": {
    "name": "ipython",
    "version": 3
   },
   "file_extension": ".py",
   "mimetype": "text/x-python",
   "name": "python",
   "nbconvert_exporter": "python",
   "pygments_lexer": "ipython3",
   "version": "3.8.5"
  }
 },
 "nbformat": 4,
 "nbformat_minor": 2
}
